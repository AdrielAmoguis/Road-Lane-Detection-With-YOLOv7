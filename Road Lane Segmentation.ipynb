{
 "cells": [
  {
   "cell_type": "markdown",
   "id": "2c96f93b-1718-4c81-90be-76b4ac3b485d",
   "metadata": {},
   "source": [
    "# Demarcation Line Based Road Lane Segmentation\n",
    "YOLOv7 Segmentation model forked from [here](https://github.com/RizwanMunawar/yolov7-segmentation).\n",
    "\n",
    "## Experiments for CSC930M and THS-ST\n",
    "\n",
    "AMOGUIS | DY | GUERRERO | MARQUEZ"
   ]
  },
  {
   "cell_type": "markdown",
   "id": "484a4290-552a-45ae-8a8e-ec8d76057baa",
   "metadata": {},
   "source": [
    "## Installing Monitoring Interfaces"
   ]
  },
  {
   "cell_type": "code",
   "execution_count": 4,
   "id": "632aeaa5-0d42-4720-9a0c-6a99a4ddf9e1",
   "metadata": {},
   "outputs": [
    {
     "name": "stdout",
     "output_type": "stream",
     "text": [
      "Requirement already satisfied: wandb in /Users/adrielamoguis/miniforge3/lib/python3.9/site-packages (0.12.18)\n",
      "Requirement already satisfied: Click!=8.0.0,>=7.0 in /Users/adrielamoguis/miniforge3/lib/python3.9/site-packages (from wandb) (8.1.3)\n",
      "Requirement already satisfied: requests<3,>=2.0.0 in /Users/adrielamoguis/miniforge3/lib/python3.9/site-packages (from wandb) (2.28.1)\n",
      "Requirement already satisfied: setuptools in /Users/adrielamoguis/miniforge3/lib/python3.9/site-packages (from wandb) (62.3.2)\n",
      "Requirement already satisfied: docker-pycreds>=0.4.0 in /Users/adrielamoguis/miniforge3/lib/python3.9/site-packages (from wandb) (0.4.0)\n",
      "Requirement already satisfied: PyYAML in /Users/adrielamoguis/miniforge3/lib/python3.9/site-packages (from wandb) (6.0)\n",
      "Requirement already satisfied: GitPython>=1.0.0 in /Users/adrielamoguis/miniforge3/lib/python3.9/site-packages (from wandb) (3.1.27)\n",
      "Requirement already satisfied: promise<3,>=2.0 in /Users/adrielamoguis/miniforge3/lib/python3.9/site-packages (from wandb) (2.3)\n",
      "Requirement already satisfied: psutil>=5.0.0 in /Users/adrielamoguis/miniforge3/lib/python3.9/site-packages (from wandb) (5.9.3)\n",
      "Requirement already satisfied: pathtools in /Users/adrielamoguis/miniforge3/lib/python3.9/site-packages (from wandb) (0.1.2)\n",
      "Requirement already satisfied: protobuf<4.0dev,>=3.12.0 in /Users/adrielamoguis/miniforge3/lib/python3.9/site-packages (from wandb) (3.20.3)\n",
      "Requirement already satisfied: setproctitle in /Users/adrielamoguis/miniforge3/lib/python3.9/site-packages (from wandb) (1.2.3)\n",
      "Requirement already satisfied: sentry-sdk>=1.0.0 in /Users/adrielamoguis/miniforge3/lib/python3.9/site-packages (from wandb) (1.5.12)\n",
      "Requirement already satisfied: shortuuid>=0.5.0 in /Users/adrielamoguis/miniforge3/lib/python3.9/site-packages (from wandb) (1.0.9)\n",
      "Requirement already satisfied: six>=1.13.0 in /Users/adrielamoguis/miniforge3/lib/python3.9/site-packages (from wandb) (1.15.0)\n",
      "Requirement already satisfied: gitdb<5,>=4.0.1 in /Users/adrielamoguis/miniforge3/lib/python3.9/site-packages (from GitPython>=1.0.0->wandb) (4.0.9)\n",
      "Requirement already satisfied: idna<4,>=2.5 in /Users/adrielamoguis/miniforge3/lib/python3.9/site-packages (from requests<3,>=2.0.0->wandb) (2.10)\n",
      "Requirement already satisfied: urllib3<1.27,>=1.21.1 in /Users/adrielamoguis/miniforge3/lib/python3.9/site-packages (from requests<3,>=2.0.0->wandb) (1.26.6)\n",
      "Requirement already satisfied: certifi>=2017.4.17 in /Users/adrielamoguis/miniforge3/lib/python3.9/site-packages (from requests<3,>=2.0.0->wandb) (2021.5.30)\n",
      "Requirement already satisfied: charset-normalizer<3,>=2 in /Users/adrielamoguis/miniforge3/lib/python3.9/site-packages (from requests<3,>=2.0.0->wandb) (2.1.1)\n",
      "Requirement already satisfied: smmap<6,>=3.0.1 in /Users/adrielamoguis/miniforge3/lib/python3.9/site-packages (from gitdb<5,>=4.0.1->GitPython>=1.0.0->wandb) (5.0.0)\n",
      "\u001b[34m\u001b[1mwandb\u001b[0m: Currently logged in as: \u001b[33madriel_amoguis\u001b[0m (\u001b[33mbaybayin-ocr\u001b[0m). Use \u001b[1m`wandb login --relogin`\u001b[0m to force relogin\n"
     ]
    },
    {
     "name": "stderr",
     "output_type": "stream",
     "text": [
      "Failed to detect the name of this notebook, you can set it manually with the WANDB_NOTEBOOK_NAME environment variable to enable code saving.\n",
      "\u001b[34m\u001b[1mwandb\u001b[0m: Currently logged in as: \u001b[33madriel_amoguis\u001b[0m. Use \u001b[1m`wandb login --relogin`\u001b[0m to force relogin\n"
     ]
    },
    {
     "data": {
      "text/html": [
       "wandb version 0.13.5 is available!  To upgrade, please run:\n",
       " $ pip install wandb --upgrade"
      ],
      "text/plain": [
       "<IPython.core.display.HTML object>"
      ]
     },
     "metadata": {},
     "output_type": "display_data"
    },
    {
     "data": {
      "text/html": [
       "Tracking run with wandb version 0.12.18"
      ],
      "text/plain": [
       "<IPython.core.display.HTML object>"
      ]
     },
     "metadata": {},
     "output_type": "display_data"
    },
    {
     "data": {
      "text/html": [
       "Run data is saved locally in <code>/Users/adrielamoguis/THESIS/Demarcation-based System/Road-Lane-Detection-With-YOLOv7/wandb/run-20221119_235329-34r35vrc</code>"
      ],
      "text/plain": [
       "<IPython.core.display.HTML object>"
      ]
     },
     "metadata": {},
     "output_type": "display_data"
    },
    {
     "data": {
      "text/html": [
       "Syncing run <strong><a href=\"https://wandb.ai/adriel_amoguis/demarcation-line-based-road-lane-instance-segmentation/runs/34r35vrc\" target=\"_blank\">rosy-bush-1</a></strong> to <a href=\"https://wandb.ai/adriel_amoguis/demarcation-line-based-road-lane-instance-segmentation\" target=\"_blank\">Weights & Biases</a> (<a href=\"https://wandb.me/run\" target=\"_blank\">docs</a>)<br/>"
      ],
      "text/plain": [
       "<IPython.core.display.HTML object>"
      ]
     },
     "metadata": {},
     "output_type": "display_data"
    },
    {
     "data": {
      "text/html": [
       "<button onClick=\"this.nextSibling.style.display='block';this.style.display='none';\">Display W&B run</button><iframe src=\"https://wandb.ai/adriel_amoguis/demarcation-line-based-road-lane-instance-segmentation/runs/34r35vrc?jupyter=true\" style=\"border:none;width:100%;height:420px;display:none;\"></iframe>"
      ],
      "text/plain": [
       "<wandb.sdk.wandb_run.Run at 0x15ffcad30>"
      ]
     },
     "execution_count": 4,
     "metadata": {},
     "output_type": "execute_result"
    }
   ],
   "source": [
    "!pip install wandb\n",
    "!wandb login\n",
    "\n",
    "import wandb\n",
    "\n",
    "wandb.init(project=\"demarcation-line-based-road-lane-instance-segmentation\", entity=\"adriel_amoguis\")"
   ]
  },
  {
   "cell_type": "markdown",
   "id": "1d7fc854-5432-4b24-ba52-3c6b91a44e2f",
   "metadata": {},
   "source": [
    "## Training the Model"
   ]
  },
  {
   "cell_type": "code",
   "execution_count": 8,
   "id": "9f4d01a2-ca04-4161-be7a-0e84d1ecdf41",
   "metadata": {},
   "outputs": [
    {
     "name": "stdout",
     "output_type": "stream",
     "text": [
      "\u001b[34m\u001b[1mwandb\u001b[0m: Currently logged in as: \u001b[33madriel_amoguis\u001b[0m (\u001b[33mbaybayin-ocr\u001b[0m). Use \u001b[1m`wandb login --relogin`\u001b[0m to force relogin\n",
      "\u001b[34m\u001b[1msegment/train: \u001b[0mweights=, cfg=yolov7-seg.yaml, data=data/road_lanes.yaml, hyp=hyp.scratch-high.yaml, epochs=30, batch_size=30, imgsz=640, rect=False, resume=False, nosave=False, noval=False, noautoanchor=False, noplots=False, evolve=None, bucket=, cache=None, image_weights=False, device=, multi_scale=False, single_cls=False, optimizer=SGD, sync_bn=False, workers=8, project=runs/train-seg, name=road-lane-seg, exist_ok=False, quad=False, cos_lr=False, label_smoothing=0.0, patience=100, freeze=[0], save_period=-1, seed=0, local_rank=-1, mask_ratio=4, no_overlap=False\n",
      "fatal: cannot change to '/Users/adrielamoguis/THESIS/Demarcation-based': No such file or directory\n",
      "YOLOv5 🚀 2022-11-19 Python-3.9.13 torch-1.12.1 CPU\n",
      "\n",
      "\u001b[34m\u001b[1mhyperparameters: \u001b[0mlr0=0.01, lrf=0.1, momentum=0.937, weight_decay=0.0005, warmup_epochs=3.0, warmup_momentum=0.8, warmup_bias_lr=0.1, box=0.05, cls=0.3, cls_pw=1.0, obj=0.7, obj_pw=1.0, iou_t=0.2, anchor_t=4.0, fl_gamma=0.0, hsv_h=0.015, hsv_s=0.7, hsv_v=0.4, degrees=0.0, translate=0.1, scale=0.9, shear=0.0, perspective=0.0, flipud=0.0, fliplr=0.5, mosaic=1.0, mixup=0.1, copy_paste=0.1\n",
      "\u001b[34m\u001b[1mTensorBoard: \u001b[0mStart with 'tensorboard --logdir runs/train-seg', view at http://localhost:6006/\n",
      "\u001b[34m\u001b[1mwandb\u001b[0m: wandb version 0.13.5 is available!  To upgrade, please run:\n",
      "\u001b[34m\u001b[1mwandb\u001b[0m:  $ pip install wandb --upgrade\n",
      "\u001b[34m\u001b[1mwandb\u001b[0m: Tracking run with wandb version 0.12.18\n",
      "\u001b[34m\u001b[1mwandb\u001b[0m: Run data is saved locally in \u001b[35m\u001b[1m/Users/adrielamoguis/THESIS/Demarcation-based System/Road-Lane-Detection-With-YOLOv7/wandb/run-20221119_235441-2jyenf8o\u001b[0m\n",
      "\u001b[34m\u001b[1mwandb\u001b[0m: Run \u001b[1m`wandb offline`\u001b[0m to turn off syncing.\n",
      "\u001b[34m\u001b[1mwandb\u001b[0m: Syncing run \u001b[33mroad-lane-seg\u001b[0m\n",
      "\u001b[34m\u001b[1mwandb\u001b[0m: ⭐️ View project at \u001b[34m\u001b[4mhttps://wandb.ai/baybayin-ocr/YOLOv5-Segment\u001b[0m\n",
      "\u001b[34m\u001b[1mwandb\u001b[0m: 🚀 View run at \u001b[34m\u001b[4mhttps://wandb.ai/baybayin-ocr/YOLOv5-Segment/runs/2jyenf8o\u001b[0m\n",
      "\n",
      "Dataset not found ⚠️, missing paths ['/Users/adrielamoguis/THESIS/Demarcation-based System/Road-Lane-Detection-With-YOLOv7/Road-Lane-Instance-Segmentation-1/valid']\n",
      "Running bash ./scripts/get_road_lanes.sh ...\n",
      "bash: ./scripts/get_road_lanes.sh: No such file or directory\n",
      "Dataset download failure (0.0s) ❌\n",
      "Downloading https://ultralytics.com/assets/Arial.ttf to /Users/adrielamoguis/Library/Application Support/Ultralytics/Arial.ttf...\n",
      "100%|████████████████████████████████████████| 755k/755k [00:00<00:00, 5.52MB/s]\n",
      "Overriding model.yaml nc=80 with nc=1\n",
      "\n",
      "                 from  n    params  module                                  arguments                     \n",
      "  0                -1  1       928  models.common.Conv                      [3, 32, 3, 1]                 \n",
      "  1                -1  1     18560  models.common.Conv                      [32, 64, 3, 2]                \n",
      "  2                -1  1     36992  models.common.Conv                      [64, 64, 3, 1]                \n",
      "  3                -1  1     73984  models.common.Conv                      [64, 128, 3, 2]               \n",
      "  4                -1  1      8320  models.common.Conv                      [128, 64, 1, 1]               \n",
      "  5                -2  1      8320  models.common.Conv                      [128, 64, 1, 1]               \n",
      "  6                -1  1     36992  models.common.Conv                      [64, 64, 3, 1]                \n",
      "  7                -1  1     36992  models.common.Conv                      [64, 64, 3, 1]                \n",
      "  8                -1  1     36992  models.common.Conv                      [64, 64, 3, 1]                \n",
      "  9                -1  1     36992  models.common.Conv                      [64, 64, 3, 1]                \n",
      " 10  [-1, -3, -5, -6]  1         0  models.common.Concat                    [1]                           \n",
      " 11                -1  1     66048  models.common.Conv                      [256, 256, 1, 1]              \n",
      " 12                -1  1         0  models.common.MP                        []                            \n",
      " 13                -1  1     33024  models.common.Conv                      [256, 128, 1, 1]              \n",
      " 14                -3  1     33024  models.common.Conv                      [256, 128, 1, 1]              \n",
      " 15                -1  1    147712  models.common.Conv                      [128, 128, 3, 2]              \n",
      " 16          [-1, -3]  1         0  models.common.Concat                    [1]                           \n",
      " 17                -1  1     33024  models.common.Conv                      [256, 128, 1, 1]              \n",
      " 18                -2  1     33024  models.common.Conv                      [256, 128, 1, 1]              \n",
      " 19                -1  1    147712  models.common.Conv                      [128, 128, 3, 1]              \n",
      " 20                -1  1    147712  models.common.Conv                      [128, 128, 3, 1]              \n",
      " 21                -1  1    147712  models.common.Conv                      [128, 128, 3, 1]              \n",
      " 22                -1  1    147712  models.common.Conv                      [128, 128, 3, 1]              \n",
      " 23  [-1, -3, -5, -6]  1         0  models.common.Concat                    [1]                           \n",
      " 24                -1  1    263168  models.common.Conv                      [512, 512, 1, 1]              \n",
      " 25                -1  1         0  models.common.MP                        []                            \n",
      " 26                -1  1    131584  models.common.Conv                      [512, 256, 1, 1]              \n",
      " 27                -3  1    131584  models.common.Conv                      [512, 256, 1, 1]              \n",
      " 28                -1  1    590336  models.common.Conv                      [256, 256, 3, 2]              \n",
      " 29          [-1, -3]  1         0  models.common.Concat                    [1]                           \n",
      " 30                -1  1    131584  models.common.Conv                      [512, 256, 1, 1]              \n",
      " 31                -2  1    131584  models.common.Conv                      [512, 256, 1, 1]              \n",
      " 32                -1  1    590336  models.common.Conv                      [256, 256, 3, 1]              \n",
      " 33                -1  1    590336  models.common.Conv                      [256, 256, 3, 1]              \n",
      " 34                -1  1    590336  models.common.Conv                      [256, 256, 3, 1]              \n",
      " 35                -1  1    590336  models.common.Conv                      [256, 256, 3, 1]              \n",
      " 36  [-1, -3, -5, -6]  1         0  models.common.Concat                    [1]                           \n",
      " 37                -1  1   1050624  models.common.Conv                      [1024, 1024, 1, 1]            \n",
      " 38                -1  1         0  models.common.MP                        []                            \n",
      " 39                -1  1    525312  models.common.Conv                      [1024, 512, 1, 1]             \n",
      " 40                -3  1    525312  models.common.Conv                      [1024, 512, 1, 1]             \n",
      " 41                -1  1   2360320  models.common.Conv                      [512, 512, 3, 2]              \n",
      " 42          [-1, -3]  1         0  models.common.Concat                    [1]                           \n",
      " 43                -1  1    262656  models.common.Conv                      [1024, 256, 1, 1]             \n",
      " 44                -2  1    262656  models.common.Conv                      [1024, 256, 1, 1]             \n",
      " 45                -1  1    590336  models.common.Conv                      [256, 256, 3, 1]              \n",
      " 46                -1  1    590336  models.common.Conv                      [256, 256, 3, 1]              \n",
      " 47                -1  1    590336  models.common.Conv                      [256, 256, 3, 1]              \n",
      " 48                -1  1    590336  models.common.Conv                      [256, 256, 3, 1]              \n",
      " 49  [-1, -3, -5, -6]  1         0  models.common.Concat                    [1]                           \n",
      " 50                -1  1   1050624  models.common.Conv                      [1024, 1024, 1, 1]            \n",
      " 51                -1  1   7609344  models.common.SPPCSPC                   [1024, 512, 1]                \n",
      " 52                -1  1    131584  models.common.Conv                      [512, 256, 1, 1]              \n",
      " 53                -1  1         0  torch.nn.modules.upsampling.Upsample    [None, 2, 'nearest']          \n",
      " 54                37  1    262656  models.common.Conv                      [1024, 256, 1, 1]             \n",
      " 55          [-1, -2]  1         0  models.common.Concat                    [1]                           \n",
      " 56                -1  1    131584  models.common.Conv                      [512, 256, 1, 1]              \n",
      " 57                -2  1    131584  models.common.Conv                      [512, 256, 1, 1]              \n",
      " 58                -1  1    295168  models.common.Conv                      [256, 128, 3, 1]              \n",
      " 59                -1  1    147712  models.common.Conv                      [128, 128, 3, 1]              \n",
      " 60                -1  1    147712  models.common.Conv                      [128, 128, 3, 1]              \n",
      " 61                -1  1    147712  models.common.Conv                      [128, 128, 3, 1]              \n",
      " 62[-1, -2, -3, -4, -5, -6]  1         0  models.common.Concat                    [1]                           \n",
      " 63                -1  1    262656  models.common.Conv                      [1024, 256, 1, 1]             \n",
      " 64                -1  1     33024  models.common.Conv                      [256, 128, 1, 1]              \n",
      " 65                -1  1         0  torch.nn.modules.upsampling.Upsample    [None, 2, 'nearest']          \n",
      " 66                24  1     65792  models.common.Conv                      [512, 128, 1, 1]              \n",
      " 67          [-1, -2]  1         0  models.common.Concat                    [1]                           \n",
      " 68                -1  1     33024  models.common.Conv                      [256, 128, 1, 1]              \n",
      " 69                -2  1     33024  models.common.Conv                      [256, 128, 1, 1]              \n",
      " 70                -1  1     73856  models.common.Conv                      [128, 64, 3, 1]               \n",
      " 71                -1  1     36992  models.common.Conv                      [64, 64, 3, 1]                \n",
      " 72                -1  1     36992  models.common.Conv                      [64, 64, 3, 1]                \n",
      " 73                -1  1     36992  models.common.Conv                      [64, 64, 3, 1]                \n",
      " 74[-1, -2, -3, -4, -5, -6]  1         0  models.common.Concat                    [1]                           \n",
      " 75                -1  1     65792  models.common.Conv                      [512, 128, 1, 1]              \n",
      " 76                -1  1         0  models.common.MP                        []                            \n",
      " 77                -1  1     16640  models.common.Conv                      [128, 128, 1, 1]              \n",
      " 78                -3  1     16640  models.common.Conv                      [128, 128, 1, 1]              \n",
      " 79                -1  1    147712  models.common.Conv                      [128, 128, 3, 2]              \n",
      " 80      [-1, -3, 63]  1         0  models.common.Concat                    [1]                           \n",
      " 81                -1  1    131584  models.common.Conv                      [512, 256, 1, 1]              \n",
      " 82                -2  1    131584  models.common.Conv                      [512, 256, 1, 1]              \n",
      " 83                -1  1    295168  models.common.Conv                      [256, 128, 3, 1]              \n",
      " 84                -1  1    147712  models.common.Conv                      [128, 128, 3, 1]              \n",
      " 85                -1  1    147712  models.common.Conv                      [128, 128, 3, 1]              \n",
      " 86                -1  1    147712  models.common.Conv                      [128, 128, 3, 1]              \n",
      " 87[-1, -2, -3, -4, -5, -6]  1         0  models.common.Concat                    [1]                           \n",
      " 88                -1  1    262656  models.common.Conv                      [1024, 256, 1, 1]             \n",
      " 89                -1  1         0  models.common.MP                        []                            \n",
      " 90                -1  1     66048  models.common.Conv                      [256, 256, 1, 1]              \n",
      " 91                -3  1     66048  models.common.Conv                      [256, 256, 1, 1]              \n",
      " 92                -1  1    590336  models.common.Conv                      [256, 256, 3, 2]              \n",
      " 93      [-1, -3, 51]  1         0  models.common.Concat                    [1]                           \n",
      " 94                -1  1    525312  models.common.Conv                      [1024, 512, 1, 1]             \n",
      " 95                -2  1    525312  models.common.Conv                      [1024, 512, 1, 1]             \n",
      " 96                -1  1   1180160  models.common.Conv                      [512, 256, 3, 1]              \n",
      " 97                -1  1    590336  models.common.Conv                      [256, 256, 3, 1]              \n",
      " 98                -1  1    590336  models.common.Conv                      [256, 256, 3, 1]              \n",
      " 99                -1  1    590336  models.common.Conv                      [256, 256, 3, 1]              \n",
      "100[-1, -2, -3, -4, -5, -6]  1         0  models.common.Concat                    [1]                           \n",
      "101                -1  1   1049600  models.common.Conv                      [2048, 512, 1, 1]             \n",
      "102                75  1    295424  models.common.Conv                      [128, 256, 3, 1]              \n",
      "103                88  1   1180672  models.common.Conv                      [256, 512, 3, 1]              \n",
      "104               101  1   4720640  models.common.Conv                      [512, 1024, 3, 1]             \n",
      "105   [102, 103, 104]  1   1395404  models.yolo.ISegment                    [1, [[12, 16, 19, 36, 40, 28], [36, 75, 76, 55, 72, 146], [142, 110, 192, 243, 459, 401]], 32, 256, [256, 512, 1024]]\n",
      "yolov7-seg summary: 417 layers, 37866092 parameters, 37866092 gradients, 142.6 GFLOPs\n",
      "\n",
      "\u001b[34m\u001b[1moptimizer:\u001b[0m SGD(lr=0.01) with parameter groups 98 weight(decay=0.0), 95 weight(decay=0.00046875), 95 bias\n",
      "Traceback (most recent call last):\n",
      "  File \"/Users/adrielamoguis/THESIS/Demarcation-based System/Road-Lane-Detection-With-YOLOv7/utils/dataloaders.py\", line 452, in __init__\n",
      "    raise FileNotFoundError(f'{prefix}{p} does not exist')\n",
      "FileNotFoundError: \u001b[34m\u001b[1mtrain: \u001b[0m/Users/adrielamoguis/THESIS/Demarcation-based System/Road-Lane-Detection-With-YOLOv7/Road-Lane-Instance-Segmentation-1/train does not exist\n",
      "\n",
      "During handling of the above exception, another exception occurred:\n",
      "\n",
      "Traceback (most recent call last):\n",
      "  File \"/Users/adrielamoguis/THESIS/Demarcation-based System/Road-Lane-Detection-With-YOLOv7/segment/train.py\", line 681, in <module>\n",
      "    main(opt)\n",
      "  File \"/Users/adrielamoguis/THESIS/Demarcation-based System/Road-Lane-Detection-With-YOLOv7/segment/train.py\", line 577, in main\n",
      "    train(opt.hyp, opt, device, callbacks)\n",
      "  File \"/Users/adrielamoguis/THESIS/Demarcation-based System/Road-Lane-Detection-With-YOLOv7/segment/train.py\", line 191, in train\n",
      "    train_loader, dataset = create_dataloader(\n",
      "  File \"/Users/adrielamoguis/THESIS/Demarcation-based System/Road-Lane-Detection-With-YOLOv7/utils/segment/dataloaders.py\", line 43, in create_dataloader\n",
      "    dataset = LoadImagesAndLabelsAndMasks(\n",
      "  File \"/Users/adrielamoguis/THESIS/Demarcation-based System/Road-Lane-Detection-With-YOLOv7/utils/segment/dataloaders.py\", line 98, in __init__\n",
      "    super().__init__(path, img_size, batch_size, augment, hyp, rect, image_weights, cache_images, single_cls,\n",
      "  File \"/Users/adrielamoguis/THESIS/Demarcation-based System/Road-Lane-Detection-With-YOLOv7/utils/dataloaders.py\", line 457, in __init__\n",
      "    raise Exception(f'{prefix}Error loading data from {path}: {e}\\n{HELP_URL}')\n",
      "Exception: \u001b[34m\u001b[1mtrain: \u001b[0mError loading data from /Users/adrielamoguis/THESIS/Demarcation-based System/Road-Lane-Detection-With-YOLOv7/Road-Lane-Instance-Segmentation-1/train: \u001b[34m\u001b[1mtrain: \u001b[0m/Users/adrielamoguis/THESIS/Demarcation-based System/Road-Lane-Detection-With-YOLOv7/Road-Lane-Instance-Segmentation-1/train does not exist\n",
      "See https://github.com/ultralytics/yolov5/wiki/Train-Custom-Data\n",
      "\u001b[34m\u001b[1mwandb\u001b[0m: Waiting for W&B process to finish... \u001b[31m(failed 1).\u001b[0m Press Control-C to abort syncing.\n",
      "\u001b[34m\u001b[1mwandb\u001b[0m:                                                                                \n",
      "\u001b[34m\u001b[1mwandb\u001b[0m: Synced \u001b[33mroad-lane-seg\u001b[0m: \u001b[34m\u001b[4mhttps://wandb.ai/baybayin-ocr/YOLOv5-Segment/runs/2jyenf8o\u001b[0m\n",
      "\u001b[34m\u001b[1mwandb\u001b[0m: Synced 6 W&B file(s), 0 media file(s), 0 artifact file(s) and 0 other file(s)\n",
      "\u001b[34m\u001b[1mwandb\u001b[0m: Find logs at: \u001b[35m\u001b[1m./wandb/run-20221119_235441-2jyenf8o/logs\u001b[0m\n"
     ]
    }
   ],
   "source": [
    "!python3 segment/train.py --data data/road_lanes.yaml --batch 30 --weights '' --cfg yolov7-seg.yaml --epochs 30 --name road-lane-seg --img 640 --hyp hyp.scratch-high.yaml"
   ]
  },
  {
   "cell_type": "code",
   "execution_count": null,
   "id": "8d360cb5-95b5-49b6-bd94-7e68dae89881",
   "metadata": {},
   "outputs": [],
   "source": []
  }
 ],
 "metadata": {
  "kernelspec": {
   "display_name": "Python 3 (ipykernel)",
   "language": "python",
   "name": "python3"
  },
  "language_info": {
   "codemirror_mode": {
    "name": "ipython",
    "version": 3
   },
   "file_extension": ".py",
   "mimetype": "text/x-python",
   "name": "python",
   "nbconvert_exporter": "python",
   "pygments_lexer": "ipython3",
   "version": "3.9.13"
  }
 },
 "nbformat": 4,
 "nbformat_minor": 5
}
