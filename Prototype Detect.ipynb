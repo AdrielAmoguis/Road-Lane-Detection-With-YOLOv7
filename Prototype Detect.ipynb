{
 "cells": [
  {
   "cell_type": "markdown",
   "id": "2c4aad8f-fbe4-4e63-8eba-a619e7861364",
   "metadata": {},
   "source": [
    "# Prototype Wrapper for Detection"
   ]
  },
  {
   "cell_type": "code",
   "execution_count": 1,
   "id": "349c1529-5031-4d09-9e47-a2e4c2b0fefd",
   "metadata": {},
   "outputs": [],
   "source": [
    "import os\n",
    "import cv2\n",
    "from matplotlib import pyplot"
   ]
  },
  {
   "cell_type": "markdown",
   "id": "cb59bc51-712f-4b1b-9afa-9df23bbf2d4d",
   "metadata": {},
   "source": [
    "## Defining Prediction Parameters"
   ]
  },
  {
   "cell_type": "code",
   "execution_count": 2,
   "id": "a949c5ea-1b22-4b67-8ea8-2951788c8e2d",
   "metadata": {},
   "outputs": [],
   "source": [
    "WEIGHTS = \"poc_vast_aug_1.pt\"\n",
    "WEIGHTS = os.path.join(os.getcwd(), \"weights\", WEIGHTS)\n",
    "IOU_THRES = 0.3\n",
    "CONF_THRES = 0.6"
   ]
  },
  {
   "cell_type": "code",
   "execution_count": 3,
   "id": "ae3405fb-ba8d-4590-b5e6-f9452fa4b6c8",
   "metadata": {},
   "outputs": [
    {
     "data": {
      "text/plain": [
       "['Video11.mp4',\n",
       " '511pa_out_2.mp4',\n",
       " 'Video15.mp4',\n",
       " 'Video17.mp4',\n",
       " 'Video16.mp4',\n",
       " 'youtube_test_1.mp4',\n",
       " 'youtube_test_2.mp4',\n",
       " 'videoplayback (1).mp4',\n",
       " 'videoplayback.mp4']"
      ]
     },
     "execution_count": 3,
     "metadata": {},
     "output_type": "execute_result"
    }
   ],
   "source": [
    "media = os.listdir('./test_media')\n",
    "media"
   ]
  },
  {
   "cell_type": "code",
   "execution_count": 4,
   "id": "daab29ff-4705-4880-8bb9-511eb645b5aa",
   "metadata": {},
   "outputs": [
    {
     "data": {
      "text/plain": [
       "'/Users/adrielamoguis/THESIS/Demarcation-based System/Road-Lane-Detection-With-YOLOv7/test_media/videoplayback (1).mp4'"
      ]
     },
     "execution_count": 4,
     "metadata": {},
     "output_type": "execute_result"
    }
   ],
   "source": [
    "SOURCE = media[7]\n",
    "SOURCE = os.path.join(os.getcwd(), \"test_media\", SOURCE)\n",
    "SOURCE"
   ]
  },
  {
   "cell_type": "markdown",
   "id": "c70eb0f5-1e60-4c5d-8299-9ce30473b722",
   "metadata": {},
   "source": [
    "## Performing the Prediction/Detection"
   ]
  },
  {
   "cell_type": "code",
   "execution_count": 5,
   "id": "bb07ed23-15d4-4036-b6b6-fd02edd8b404",
   "metadata": {},
   "outputs": [
    {
     "name": "stdout",
     "output_type": "stream",
     "text": [
      "\u001b[34m\u001b[1msegment/predict: \u001b[0mweights=['/Users/adrielamoguis/THESIS/Demarcation-based System/Road-Lane-Detection-With-YOLOv7/weights/poc_vast_aug_1.pt'], source=/Users/adrielamoguis/THESIS/Demarcation-based System/Road-Lane-Detection-With-YOLOv7/test_media/videoplayback (1).mp4, data=data/coco128.yaml, imgsz=[640, 640], conf_thres=0.6, iou_thres=0.3, max_det=1000, device=, view_img=True, save_txt=True, save_conf=False, save_crop=False, nosave=False, classes=None, agnostic_nms=False, augment=False, visualize=False, update=False, project=runs/predict-seg, name=exp, exist_ok=False, line_thickness=0, hide_labels=True, hide_conf=True, half=False, dnn=False, trk=False\n",
      "fatal: cannot change to '/Users/adrielamoguis/THESIS/Demarcation-based': No such file or directory\n",
      "YOLOv5 🚀 2022-11-19 Python-3.9.13 torch-1.12.1 CPU\n",
      "\n",
      "Fusing layers... \n",
      "yolov7-seg summary: 325 layers, 37842476 parameters, 0 gradients, 141.9 GFLOPs\n",
      "video 1/1 (1/62730) /Users/adrielamoguis/THESIS/Demarcation-based System/Road-Lane-Detection-With-YOLOv7/test_media/videoplayback (1).mp4: 384x640 2 Road Lanes, 752.8ms\n",
      "video 1/1 (2/62730) /Users/adrielamoguis/THESIS/Demarcation-based System/Road-Lane-Detection-With-YOLOv7/test_media/videoplayback (1).mp4: 384x640 2 Road Lanes, 462.8ms\n",
      "video 1/1 (3/62730) /Users/adrielamoguis/THESIS/Demarcation-based System/Road-Lane-Detection-With-YOLOv7/test_media/videoplayback (1).mp4: 384x640 2 Road Lanes, 364.1ms\n",
      "video 1/1 (4/62730) /Users/adrielamoguis/THESIS/Demarcation-based System/Road-Lane-Detection-With-YOLOv7/test_media/videoplayback (1).mp4: 384x640 2 Road Lanes, 355.1ms\n",
      "video 1/1 (5/62730) /Users/adrielamoguis/THESIS/Demarcation-based System/Road-Lane-Detection-With-YOLOv7/test_media/videoplayback (1).mp4: 384x640 2 Road Lanes, 392.3ms\n",
      "video 1/1 (6/62730) /Users/adrielamoguis/THESIS/Demarcation-based System/Road-Lane-Detection-With-YOLOv7/test_media/videoplayback (1).mp4: 384x640 2 Road Lanes, 442.9ms\n",
      "video 1/1 (7/62730) /Users/adrielamoguis/THESIS/Demarcation-based System/Road-Lane-Detection-With-YOLOv7/test_media/videoplayback (1).mp4: 384x640 2 Road Lanes, 410.7ms\n",
      "video 1/1 (8/62730) /Users/adrielamoguis/THESIS/Demarcation-based System/Road-Lane-Detection-With-YOLOv7/test_media/videoplayback (1).mp4: 384x640 2 Road Lanes, 367.9ms\n",
      "video 1/1 (9/62730) /Users/adrielamoguis/THESIS/Demarcation-based System/Road-Lane-Detection-With-YOLOv7/test_media/videoplayback (1).mp4: 384x640 2 Road Lanes, 338.3ms\n",
      "video 1/1 (10/62730) /Users/adrielamoguis/THESIS/Demarcation-based System/Road-Lane-Detection-With-YOLOv7/test_media/videoplayback (1).mp4: 384x640 2 Road Lanes, 360.7ms\n",
      "video 1/1 (11/62730) /Users/adrielamoguis/THESIS/Demarcation-based System/Road-Lane-Detection-With-YOLOv7/test_media/videoplayback (1).mp4: 384x640 2 Road Lanes, 350.1ms\n",
      "video 1/1 (12/62730) /Users/adrielamoguis/THESIS/Demarcation-based System/Road-Lane-Detection-With-YOLOv7/test_media/videoplayback (1).mp4: 384x640 2 Road Lanes, 349.5ms\n",
      "video 1/1 (13/62730) /Users/adrielamoguis/THESIS/Demarcation-based System/Road-Lane-Detection-With-YOLOv7/test_media/videoplayback (1).mp4: 384x640 2 Road Lanes, 374.3ms\n",
      "video 1/1 (14/62730) /Users/adrielamoguis/THESIS/Demarcation-based System/Road-Lane-Detection-With-YOLOv7/test_media/videoplayback (1).mp4: 384x640 2 Road Lanes, 339.7ms\n",
      "video 1/1 (15/62730) /Users/adrielamoguis/THESIS/Demarcation-based System/Road-Lane-Detection-With-YOLOv7/test_media/videoplayback (1).mp4: 384x640 2 Road Lanes, 334.1ms\n",
      "video 1/1 (16/62730) /Users/adrielamoguis/THESIS/Demarcation-based System/Road-Lane-Detection-With-YOLOv7/test_media/videoplayback (1).mp4: 384x640 2 Road Lanes, 342.4ms\n",
      "video 1/1 (17/62730) /Users/adrielamoguis/THESIS/Demarcation-based System/Road-Lane-Detection-With-YOLOv7/test_media/videoplayback (1).mp4: 384x640 2 Road Lanes, 331.8ms\n",
      "video 1/1 (18/62730) /Users/adrielamoguis/THESIS/Demarcation-based System/Road-Lane-Detection-With-YOLOv7/test_media/videoplayback (1).mp4: 384x640 2 Road Lanes, 338.7ms\n",
      "video 1/1 (19/62730) /Users/adrielamoguis/THESIS/Demarcation-based System/Road-Lane-Detection-With-YOLOv7/test_media/videoplayback (1).mp4: 384x640 2 Road Lanes, 334.7ms\n",
      "video 1/1 (20/62730) /Users/adrielamoguis/THESIS/Demarcation-based System/Road-Lane-Detection-With-YOLOv7/test_media/videoplayback (1).mp4: 384x640 2 Road Lanes, 348.4ms\n",
      "video 1/1 (21/62730) /Users/adrielamoguis/THESIS/Demarcation-based System/Road-Lane-Detection-With-YOLOv7/test_media/videoplayback (1).mp4: 384x640 2 Road Lanes, 352.6ms\n",
      "video 1/1 (22/62730) /Users/adrielamoguis/THESIS/Demarcation-based System/Road-Lane-Detection-With-YOLOv7/test_media/videoplayback (1).mp4: 384x640 2 Road Lanes, 382.4ms\n",
      "video 1/1 (23/62730) /Users/adrielamoguis/THESIS/Demarcation-based System/Road-Lane-Detection-With-YOLOv7/test_media/videoplayback (1).mp4: 384x640 2 Road Lanes, 344.4ms\n",
      "video 1/1 (24/62730) /Users/adrielamoguis/THESIS/Demarcation-based System/Road-Lane-Detection-With-YOLOv7/test_media/videoplayback (1).mp4: 384x640 2 Road Lanes, 378.8ms\n",
      "video 1/1 (25/62730) /Users/adrielamoguis/THESIS/Demarcation-based System/Road-Lane-Detection-With-YOLOv7/test_media/videoplayback (1).mp4: 384x640 2 Road Lanes, 351.4ms\n",
      "video 1/1 (26/62730) /Users/adrielamoguis/THESIS/Demarcation-based System/Road-Lane-Detection-With-YOLOv7/test_media/videoplayback (1).mp4: 384x640 2 Road Lanes, 375.0ms\n",
      "video 1/1 (27/62730) /Users/adrielamoguis/THESIS/Demarcation-based System/Road-Lane-Detection-With-YOLOv7/test_media/videoplayback (1).mp4: 384x640 2 Road Lanes, 332.0ms\n",
      "video 1/1 (28/62730) /Users/adrielamoguis/THESIS/Demarcation-based System/Road-Lane-Detection-With-YOLOv7/test_media/videoplayback (1).mp4: 384x640 2 Road Lanes, 329.2ms\n",
      "video 1/1 (29/62730) /Users/adrielamoguis/THESIS/Demarcation-based System/Road-Lane-Detection-With-YOLOv7/test_media/videoplayback (1).mp4: 384x640 2 Road Lanes, 330.3ms\n",
      "video 1/1 (30/62730) /Users/adrielamoguis/THESIS/Demarcation-based System/Road-Lane-Detection-With-YOLOv7/test_media/videoplayback (1).mp4: 384x640 2 Road Lanes, 323.1ms\n",
      "video 1/1 (31/62730) /Users/adrielamoguis/THESIS/Demarcation-based System/Road-Lane-Detection-With-YOLOv7/test_media/videoplayback (1).mp4: 384x640 2 Road Lanes, 333.5ms\n",
      "video 1/1 (32/62730) /Users/adrielamoguis/THESIS/Demarcation-based System/Road-Lane-Detection-With-YOLOv7/test_media/videoplayback (1).mp4: 384x640 2 Road Lanes, 338.8ms\n",
      "video 1/1 (33/62730) /Users/adrielamoguis/THESIS/Demarcation-based System/Road-Lane-Detection-With-YOLOv7/test_media/videoplayback (1).mp4: 384x640 2 Road Lanes, 333.1ms\n",
      "video 1/1 (34/62730) /Users/adrielamoguis/THESIS/Demarcation-based System/Road-Lane-Detection-With-YOLOv7/test_media/videoplayback (1).mp4: 384x640 2 Road Lanes, 340.2ms\n",
      "video 1/1 (35/62730) /Users/adrielamoguis/THESIS/Demarcation-based System/Road-Lane-Detection-With-YOLOv7/test_media/videoplayback (1).mp4: 384x640 2 Road Lanes, 332.9ms\n",
      "video 1/1 (36/62730) /Users/adrielamoguis/THESIS/Demarcation-based System/Road-Lane-Detection-With-YOLOv7/test_media/videoplayback (1).mp4: 384x640 2 Road Lanes, 333.0ms\n",
      "video 1/1 (37/62730) /Users/adrielamoguis/THESIS/Demarcation-based System/Road-Lane-Detection-With-YOLOv7/test_media/videoplayback (1).mp4: 384x640 2 Road Lanes, 330.0ms\n",
      "video 1/1 (38/62730) /Users/adrielamoguis/THESIS/Demarcation-based System/Road-Lane-Detection-With-YOLOv7/test_media/videoplayback (1).mp4: 384x640 2 Road Lanes, 325.0ms\n",
      "video 1/1 (39/62730) /Users/adrielamoguis/THESIS/Demarcation-based System/Road-Lane-Detection-With-YOLOv7/test_media/videoplayback (1).mp4: 384x640 2 Road Lanes, 343.5ms\n",
      "video 1/1 (40/62730) /Users/adrielamoguis/THESIS/Demarcation-based System/Road-Lane-Detection-With-YOLOv7/test_media/videoplayback (1).mp4: 384x640 2 Road Lanes, 333.1ms\n",
      "video 1/1 (41/62730) /Users/adrielamoguis/THESIS/Demarcation-based System/Road-Lane-Detection-With-YOLOv7/test_media/videoplayback (1).mp4: 384x640 2 Road Lanes, 335.6ms\n",
      "video 1/1 (42/62730) /Users/adrielamoguis/THESIS/Demarcation-based System/Road-Lane-Detection-With-YOLOv7/test_media/videoplayback (1).mp4: 384x640 2 Road Lanes, 329.6ms\n",
      "video 1/1 (43/62730) /Users/adrielamoguis/THESIS/Demarcation-based System/Road-Lane-Detection-With-YOLOv7/test_media/videoplayback (1).mp4: 384x640 2 Road Lanes, 332.8ms\n",
      "video 1/1 (44/62730) /Users/adrielamoguis/THESIS/Demarcation-based System/Road-Lane-Detection-With-YOLOv7/test_media/videoplayback (1).mp4: 384x640 2 Road Lanes, 341.0ms\n",
      "video 1/1 (45/62730) /Users/adrielamoguis/THESIS/Demarcation-based System/Road-Lane-Detection-With-YOLOv7/test_media/videoplayback (1).mp4: 384x640 2 Road Lanes, 339.7ms\n",
      "video 1/1 (46/62730) /Users/adrielamoguis/THESIS/Demarcation-based System/Road-Lane-Detection-With-YOLOv7/test_media/videoplayback (1).mp4: 384x640 2 Road Lanes, 351.4ms\n",
      "video 1/1 (47/62730) /Users/adrielamoguis/THESIS/Demarcation-based System/Road-Lane-Detection-With-YOLOv7/test_media/videoplayback (1).mp4: 384x640 2 Road Lanes, 323.4ms\n",
      "video 1/1 (48/62730) /Users/adrielamoguis/THESIS/Demarcation-based System/Road-Lane-Detection-With-YOLOv7/test_media/videoplayback (1).mp4: 384x640 2 Road Lanes, 320.9ms\n",
      "video 1/1 (49/62730) /Users/adrielamoguis/THESIS/Demarcation-based System/Road-Lane-Detection-With-YOLOv7/test_media/videoplayback (1).mp4: 384x640 2 Road Lanes, 374.8ms\n",
      "video 1/1 (50/62730) /Users/adrielamoguis/THESIS/Demarcation-based System/Road-Lane-Detection-With-YOLOv7/test_media/videoplayback (1).mp4: 384x640 2 Road Lanes, 333.7ms\n",
      "video 1/1 (51/62730) /Users/adrielamoguis/THESIS/Demarcation-based System/Road-Lane-Detection-With-YOLOv7/test_media/videoplayback (1).mp4: 384x640 2 Road Lanes, 343.3ms\n",
      "^C\n",
      "Traceback (most recent call last):\n",
      "  File \"/Users/adrielamoguis/THESIS/Demarcation-based System/Road-Lane-Detection-With-YOLOv7/segment/predict.py\", line 289, in <module>\n",
      "    main(opt)\n",
      "  File \"/Users/adrielamoguis/THESIS/Demarcation-based System/Road-Lane-Detection-With-YOLOv7/segment/predict.py\", line 284, in main\n",
      "    run(**vars(opt))\n",
      "  File \"/Users/adrielamoguis/miniforge3/lib/python3.9/site-packages/torch/autograd/grad_mode.py\", line 27, in decorate_context\n",
      "    return func(*args, **kwargs)\n",
      "  File \"/Users/adrielamoguis/THESIS/Demarcation-based System/Road-Lane-Detection-With-YOLOv7/segment/predict.py\", line 122, in run\n",
      "    pred, out = model(im, augment=augment, visualize=visualize)\n",
      "  File \"/Users/adrielamoguis/miniforge3/lib/python3.9/site-packages/torch/nn/modules/module.py\", line 1130, in _call_impl\n",
      "    return forward_call(*input, **kwargs)\n",
      "  File \"/Users/adrielamoguis/THESIS/Demarcation-based System/Road-Lane-Detection-With-YOLOv7/models/common.py\", line 541, in forward\n",
      "    y = self.model(im, augment=augment, visualize=visualize) if augment or visualize else self.model(im)\n",
      "  File \"/Users/adrielamoguis/miniforge3/lib/python3.9/site-packages/torch/nn/modules/module.py\", line 1130, in _call_impl\n",
      "    return forward_call(*input, **kwargs)\n",
      "  File \"/Users/adrielamoguis/THESIS/Demarcation-based System/Road-Lane-Detection-With-YOLOv7/models/yolo.py\", line 300, in forward\n",
      "    return self._forward_once(x, profile, visualize)  # single-scale inference, train\n",
      "  File \"/Users/adrielamoguis/THESIS/Demarcation-based System/Road-Lane-Detection-With-YOLOv7/models/yolo.py\", line 212, in _forward_once\n",
      "    x = m(x)  # run\n",
      "  File \"/Users/adrielamoguis/miniforge3/lib/python3.9/site-packages/torch/nn/modules/module.py\", line 1130, in _call_impl\n",
      "    return forward_call(*input, **kwargs)\n",
      "  File \"/Users/adrielamoguis/THESIS/Demarcation-based System/Road-Lane-Detection-With-YOLOv7/models/common.py\", line 101, in forward_fuse\n",
      "    return self.act(self.conv(x))\n",
      "  File \"/Users/adrielamoguis/miniforge3/lib/python3.9/site-packages/torch/nn/modules/module.py\", line 1130, in _call_impl\n",
      "    return forward_call(*input, **kwargs)\n",
      "  File \"/Users/adrielamoguis/miniforge3/lib/python3.9/site-packages/torch/nn/modules/conv.py\", line 457, in forward\n",
      "    return self._conv_forward(input, self.weight, self.bias)\n",
      "  File \"/Users/adrielamoguis/miniforge3/lib/python3.9/site-packages/torch/nn/modules/conv.py\", line 453, in _conv_forward\n",
      "    return F.conv2d(input, weight, bias, self.stride,\n",
      "KeyboardInterrupt\n"
     ]
    }
   ],
   "source": [
    "!python3 segment/predict.py \\\n",
    "    --source \"$SOURCE\" \\\n",
    "    --weights \"$WEIGHTS\" \\\n",
    "    --iou-thres $IOU_THRES \\\n",
    "    --conf-thres $CONF_THRES \\\n",
    "    --hide-labels \\\n",
    "    --view-img --img 640 \\\n",
    "    --hide-conf --hide-labels \\\n",
    "    --line-thickness 0 \\\n",
    "    --save-txt"
   ]
  },
  {
   "cell_type": "code",
   "execution_count": null,
   "id": "6e11c50f-b1f5-4e51-aab5-b4ba76ad0d70",
   "metadata": {},
   "outputs": [],
   "source": []
  }
 ],
 "metadata": {
  "kernelspec": {
   "display_name": "Python 3 (ipykernel)",
   "language": "python",
   "name": "python3"
  },
  "language_info": {
   "codemirror_mode": {
    "name": "ipython",
    "version": 3
   },
   "file_extension": ".py",
   "mimetype": "text/x-python",
   "name": "python",
   "nbconvert_exporter": "python",
   "pygments_lexer": "ipython3",
   "version": "3.9.13"
  }
 },
 "nbformat": 4,
 "nbformat_minor": 5
}
